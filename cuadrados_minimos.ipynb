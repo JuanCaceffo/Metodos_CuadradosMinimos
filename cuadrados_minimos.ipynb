{
 "cells": [
  {
   "cell_type": "code",
   "execution_count": 1,
   "metadata": {},
   "outputs": [],
   "source": [
    "## importamos librerias\n",
    "import pandas as pd\n",
    "import sympy as sp\n",
    "import numpy as np\n",
    "import matplotlib.pyplot as plt\n",
    "import math as mt"
   ]
  },
  {
   "cell_type": "code",
   "execution_count": 2,
   "metadata": {},
   "outputs": [],
   "source": [
    "#puntos = puntos a  graficar\n",
    "#f = funcion a graficar \n",
    "def grafico(puntos_x,puntos_y,f,tituloGrafico:str,a,b,r):\n",
    "    PUNTO_X_MAX =  max(puntos_x)\n",
    "    PUNTO_X_MIN = min(puntos_x)\n",
    "    DOMINIO = 5\n",
    "    #genero X_Y para el dominio de x \n",
    "    #x_values = np.arange(PUNTO_X_MIN-DOMINIO,DOMINIO+PUNTO_X_MAX,step=1)\n",
    "    x_values = puntos_x\n",
    "    #genero X_Y para la imagen de y\n",
    "    y_values = ([f(x) for x in x_values])\n",
    "    # Agregar el eje de abscisas\n",
    "    plt.axhline(y=0, color='black', linestyle='--')\n",
    "    # Agregar el eje de ordenadas\n",
    "    plt.axvline(x=0, color='black', linestyle='--')\n",
    "    #agrego puntos calulados \n",
    "    plt.scatter(puntos_x,puntos_y,c=\"red\")\n",
    "    #ploteo el grafico\n",
    "    plt.plot(x_values,y_values)\n",
    "    #agrego labels\n",
    "    plt.xlabel('x')\n",
    "    plt.ylabel('f(x)')\n",
    "    plt.title(tituloGrafico)\n",
    "    PUNTOS_Y_MIN = min(puntos_y)\n",
    "    PUNTOS_Y_MAX = max(puntos_y)\n",
    "    plt.ylim(PUNTOS_Y_MIN-DOMINIO,PUNTOS_Y_MAX+DOMINIO)\n",
    "    #muestro el grafico\n",
    "\n",
    "    cuadro_texto = f'a = {a:.2f}, b = {b:.2f}, r = {r:.2f}'\n",
    "    plt.text(0.18, 0.95, cuadro_texto, transform=plt.gca().transAxes,\n",
    "             fontsize=12, verticalalignment='top', bbox=dict(facecolor='white', edgecolor='black', boxstyle='round'))\n",
    "\n",
    "\n",
    "    \n",
    "    plt.show()"
   ]
  },
  {
   "attachments": {},
   "cell_type": "markdown",
   "metadata": {},
   "source": [
    "### Ingesta de valores de x e y"
   ]
  },
  {
   "attachments": {},
   "cell_type": "markdown",
   "metadata": {},
   "source": [
    "Mostramos por pantalla el dataset que vamos a utilizar "
   ]
  },
  {
   "cell_type": "code",
   "execution_count": 3,
   "metadata": {},
   "outputs": [
    {
     "data": {
      "text/html": [
       "<div>\n",
       "<style scoped>\n",
       "    .dataframe tbody tr th:only-of-type {\n",
       "        vertical-align: middle;\n",
       "    }\n",
       "\n",
       "    .dataframe tbody tr th {\n",
       "        vertical-align: top;\n",
       "    }\n",
       "\n",
       "    .dataframe thead th {\n",
       "        text-align: right;\n",
       "    }\n",
       "</style>\n",
       "<table border=\"1\" class=\"dataframe\">\n",
       "  <thead>\n",
       "    <tr style=\"text-align: right;\">\n",
       "      <th></th>\n",
       "      <th>x</th>\n",
       "      <th>y</th>\n",
       "    </tr>\n",
       "  </thead>\n",
       "  <tbody>\n",
       "    <tr>\n",
       "      <th>0</th>\n",
       "      <td>32.270211</td>\n",
       "      <td>5.674533</td>\n",
       "    </tr>\n",
       "    <tr>\n",
       "      <th>1</th>\n",
       "      <td>32.967373</td>\n",
       "      <td>5.686818</td>\n",
       "    </tr>\n",
       "    <tr>\n",
       "      <th>2</th>\n",
       "      <td>34.858147</td>\n",
       "      <td>5.938613</td>\n",
       "    </tr>\n",
       "    <tr>\n",
       "      <th>3</th>\n",
       "      <td>35.147285</td>\n",
       "      <td>5.907624</td>\n",
       "    </tr>\n",
       "    <tr>\n",
       "      <th>4</th>\n",
       "      <td>35.629564</td>\n",
       "      <td>5.909206</td>\n",
       "    </tr>\n",
       "  </tbody>\n",
       "</table>\n",
       "</div>"
      ],
      "text/plain": [
       "           x         y\n",
       "0  32.270211  5.674533\n",
       "1  32.967373  5.686818\n",
       "2  34.858147  5.938613\n",
       "3  35.147285  5.907624\n",
       "4  35.629564  5.909206"
      ]
     },
     "execution_count": 3,
     "metadata": {},
     "output_type": "execute_result"
    }
   ],
   "source": [
    "data = pd.read_excel(\"ejemplo.xlsx\")\n",
    "data.head()"
   ]
  },
  {
   "cell_type": "code",
   "execution_count": 4,
   "metadata": {},
   "outputs": [],
   "source": [
    "#Lo pasamos a un array de numpy para ganar preformance\n",
    "X_Y = pd.read_excel(\"ejemplo.xlsx\").to_numpy()\n",
    "x_values = X_Y[:,0]\n",
    "y_values = X_Y[:,1]\n",
    "\n"
   ]
  },
  {
   "attachments": {},
   "cell_type": "markdown",
   "metadata": {},
   "source": [
    "### X_Y necesarios para los calculos\n",
    "![explicacion de datos](fotoExplicativa.png)"
   ]
  },
  {
   "cell_type": "code",
   "execution_count": 5,
   "metadata": {},
   "outputs": [],
   "source": [
    "#x_values =  np.array, valores de x\n",
    "#y_values =  np.array, valores de y\n",
    "def datosFormula(x_values:np.ndarray,y_values:np.ndarray):\n",
    "    XY = (x_values*y_values).reshape(-1,1)\n",
    "    X_POW_2 = np.power(x_values,2).reshape(-1,1)\n",
    "    Y_POW_2 = np.power(y_values,2).reshape(-1,1)\n",
    "    DATES = np.concatenate((x_values.reshape(-1,1),y_values.reshape(-1,1),XY,X_POW_2,Y_POW_2),axis=1)\n",
    "    \n",
    "    ## realizamos la suma de todos los elementos de las filas para cada columna y sacamos su promedio\n",
    "    return np.sum(DATES,axis=0)/X_Y.shape[0]"
   ]
  },
  {
   "attachments": {},
   "cell_type": "markdown",
   "metadata": {},
   "source": [
    "### coeficiente de correlación\n",
    "![](fotoCorrelacion.png)"
   ]
  },
  {
   "cell_type": "code",
   "execution_count": 6,
   "metadata": {},
   "outputs": [],
   "source": [
    "#x_values =  np.array, valores de x\n",
    "#y_values =  np.array, valores de y\n",
    "def corelacionParson(x_values:np.ndarray,y_values:np.ndarray):\n",
    "    x_prom, y_prom, xy_prom, xpow_prom, ypow_prom= datosFormula(x_values,y_values)\n",
    "    try: \n",
    "        r = (xy_prom-(x_prom*y_prom)) / ((np.sqrt((xpow_prom-(x_prom**2)))) * (np.sqrt((ypow_prom-(y_prom**2))))) \n",
    "    except:\n",
    "        Exception(\"Divison por 0\")\n",
    "        \n",
    "    return r"
   ]
  },
  {
   "attachments": {},
   "cell_type": "markdown",
   "metadata": {},
   "source": [
    "### Calculo por cuadrados minimos de a y b\n",
    "![](fotoExplicativa1.png)"
   ]
  },
  {
   "cell_type": "code",
   "execution_count": 7,
   "metadata": {},
   "outputs": [],
   "source": [
    "#x_values =  np.array, valores de x\n",
    "#y_values =  np.array, valores de y\n",
    "def calcA_BCuadradaosMinimos(x_values:np.ndarray,y_values:np.ndarray):\n",
    "    \"\"\"\n",
    "        Esta funcion calcula la pendiente y el termino independiente por medio de cuadrados minimos\n",
    "        para ecuaciones lineales o exponenciales linealizadas  \n",
    "    \"\"\"\n",
    "    x_prom, y_prom, xy_prom, xpow_prom, _= datosFormula(x_values,y_values)\n",
    "    \n",
    "    #denominador identico para M y B\n",
    "    DEN = ((xpow_prom) - (x_prom)**2)\n",
    "    #vaidamos que no sea 0\n",
    "    if (DEN == 0):\n",
    "        Exception(\"Error: divison por 0\")       \n",
    "                            \n",
    "    #calculamos la pendiente \n",
    "    A = ((xy_prom) - (x_prom*y_prom)) / DEN\n",
    "    #calculamos el temrino independiente\n",
    "    B = ((xpow_prom*y_prom) - (x_prom*xy_prom)) / DEN\n",
    "    \n",
    "    return A,B\n",
    "    \n"
   ]
  },
  {
   "attachments": {},
   "cell_type": "markdown",
   "metadata": {},
   "source": [
    "## Pruebas para curva 1: y = ax +b"
   ]
  },
  {
   "cell_type": "code",
   "execution_count": 8,
   "metadata": {},
   "outputs": [],
   "source": [
    " \n",
    "a,b = calcA_BCuadradaosMinimos(x_values,y_values)\n",
    "ecuation1 = lambda x: a*x + b\n"
   ]
  },
  {
   "cell_type": "code",
   "execution_count": 9,
   "metadata": {},
   "outputs": [
    {
     "name": "stdout",
     "output_type": "stream",
     "text": [
      "0.026563702960863016 5.179170070271093\n"
     ]
    }
   ],
   "source": [
    "print(a,b)"
   ]
  },
  {
   "cell_type": "code",
   "execution_count": 10,
   "metadata": {},
   "outputs": [],
   "source": [
    "r = corelacionParson(x_values,np.array([ecuation1(x_value) for x_value in x_values]))"
   ]
  },
  {
   "cell_type": "code",
   "execution_count": 11,
   "metadata": {},
   "outputs": [
    {
     "name": "stdout",
     "output_type": "stream",
     "text": [
      "0.9999999999999797\n"
     ]
    }
   ],
   "source": [
    "print (r)"
   ]
  },
  {
   "cell_type": "code",
   "execution_count": 12,
   "metadata": {},
   "outputs": [
    {
     "data": {
      "image/png": "[encoded data removed]",
      "text/plain": [
       "<Figure size 640x480 with 1 Axes>"
      ]
     },
     "metadata": {},
     "output_type": "display_data"
    }
   ],
   "source": [
    "grafico(X_Y[:,0],X_Y[:,1],lambda x : a*x+b,\"Ecuacion 1\",a,b,r)"
   ]
  },
  {
   "attachments": {},
   "cell_type": "markdown",
   "metadata": {},
   "source": [
    "### Pruebita de curva 2: y = b*x^a ---> lineriazada: ln(y) = ln(b) + a ln(x) --> (x,y) = (ln(x),ln(y))"
   ]
  },
  {
   "cell_type": "code",
   "execution_count": 13,
   "metadata": {},
   "outputs": [],
   "source": [
    "x = np.log(x_values)\n",
    "y = np.log(y_values)\n",
    "A,B = calcA_BCuadradaosMinimos(x,y)\n",
    "##Como devuelve el ln(b) para poder utilizar la funcion no linearizada necesitamos b b es igaul a la inversa del ln\n",
    "B = np.e**B\n",
    "ecuation2 = lambda x : B * np.power(x, A)"
   ]
  },
  {
   "cell_type": "code",
   "execution_count": 14,
   "metadata": {},
   "outputs": [
    {
     "name": "stdout",
     "output_type": "stream",
     "text": [
      "0.27429997781547 2.2239116190625308\n"
     ]
    }
   ],
   "source": [
    "print (A,B)"
   ]
  },
  {
   "cell_type": "code",
   "execution_count": 15,
   "metadata": {},
   "outputs": [],
   "source": [
    "r = corelacionParson(x,y)"
   ]
  },
  {
   "cell_type": "code",
   "execution_count": 16,
   "metadata": {},
   "outputs": [
    {
     "name": "stdout",
     "output_type": "stream",
     "text": [
      "0.9968817375993468\n"
     ]
    }
   ],
   "source": [
    "print(r)"
   ]
  },
  {
   "cell_type": "code",
   "execution_count": 17,
   "metadata": {},
   "outputs": [
    {
     "data": {
      "image/png": "[encoded data removed]",
      "text/plain": [
       "<Figure size 640x480 with 1 Axes>"
      ]
     },
     "metadata": {},
     "output_type": "display_data"
    }
   ],
   "source": [
    "grafico(X_Y[:,0],X_Y[:,1],ecuation2,\"Ecuacion 2\",a,b,r)"
   ]
  },
  {
   "attachments": {},
   "cell_type": "markdown",
   "metadata": {},
   "source": [
    "Calculo el tiempo de duplicacion de la segunda ecuacion y = bx^a"
   ]
  },
  {
   "attachments": {},
   "cell_type": "markdown",
   "metadata": {},
   "source": [
    "### Pruebita de curva 3: y = b*e^(a*x) ---> lineriazada: ln(y) = ln(b) + a*x --> (x,y) = (x,ln(y))"
   ]
  },
  {
   "cell_type": "code",
   "execution_count": 18,
   "metadata": {},
   "outputs": [],
   "source": [
    "y = np.log(y_values)\n",
    "A,B = calcA_BCuadradaosMinimos(x_values,y)\n",
    "##Como devuelve el ln(b) para poder utilizar la funcion no linearizada necesitamos b b es igaul a la inversa del ln\n",
    "B = np.e**B\n",
    "ecuation3 = lambda x : B * np.power(np.e, (A*x))"
   ]
  },
  {
   "cell_type": "code",
   "execution_count": 19,
   "metadata": {},
   "outputs": [
    {
     "name": "stdout",
     "output_type": "stream",
     "text": [
      "0.0037263627634629695 5.3939577826753435\n"
     ]
    }
   ],
   "source": [
    "print (A,B)"
   ]
  },
  {
   "cell_type": "code",
   "execution_count": 20,
   "metadata": {},
   "outputs": [],
   "source": [
    "r = corelacionParson(x_values,y)"
   ]
  },
  {
   "cell_type": "code",
   "execution_count": 21,
   "metadata": {},
   "outputs": [
    {
     "name": "stdout",
     "output_type": "stream",
     "text": [
      "0.9752014986029207\n"
     ]
    }
   ],
   "source": [
    "print(r)"
   ]
  },
  {
   "cell_type": "code",
   "execution_count": 22,
   "metadata": {},
   "outputs": [
    {
     "data": {
      "image/png": "[encoded data removed]",
      "text/plain": [
       "<Figure size 640x480 with 1 Axes>"
      ]
     },
     "metadata": {},
     "output_type": "display_data"
    }
   ],
   "source": [
    "grafico(X_Y[:,0],X_Y[:,1],ecuation3,\"Ecuacion 3\",a,b,r)"
   ]
  },
  {
   "attachments": {},
   "cell_type": "markdown",
   "metadata": {},
   "source": [
    "\n",
    "La función calcular_tiempo_duplicacion toma cuatro parámetros: x, y, a y b. Los parámetros x e y representan las variables independiente y dependiente respectivamente del dataset. Los parámetros a y b son los coeficientes de la línea de regresión lineal obtenidos previamente mediante el ajuste de cuadrados mínimos."
   ]
  },
  {
   "cell_type": "code",
   "execution_count": 23,
   "metadata": {},
   "outputs": [],
   "source": [
    "def calcular_tiempo_duplicacion(x, y, a, b):\n",
    "    \n",
    "    # Multiplicamos el primer valor de y por 2 (2 * y[0]) y lo almacenamos en la variable valor_doble_y. \n",
    "    # Esto nos da el valor de y cuando es el doble del valor inicial. Esta es una forma de definir el punto en el que queremos encontrar el tiempo de duplicación.\n",
    "    valor_doble_y = 2 * y[0]\n",
    "    \n",
    "    # Se utiliza la ecuación de la recta (y = ax + b) y se despeja x para calcular el valor correspondiente al punto de corte donde y es igual al valor doble (valor_doble_y). El cálculo se realiza mediante la fórmula (valor_doble_y - b) / a, y el resultado se almacena en la variable punto_corte_x.\n",
    "    punto_corte_x = (valor_doble_y - b) / a\n",
    "\n",
    "    # Se calcula la diferencia en x entre el punto de corte (punto_corte_x) y el valor inicial de x (x[0]). Esta diferencia nos proporciona el tiempo de duplicación.\n",
    "    tiempo_duplicacion = punto_corte_x - x[0]\n",
    "\n",
    "    return tiempo_duplicacion"
   ]
  },
  {
   "cell_type": "code",
   "execution_count": 24,
   "metadata": {},
   "outputs": [
    {
     "data": {
      "text/plain": [
       "199.99773548586592"
      ]
     },
     "execution_count": 24,
     "metadata": {},
     "output_type": "execute_result"
    }
   ],
   "source": [
    "calcular_tiempo_duplicacion(x_values,y_values,a,b)"
   ]
  }
 ],
 "metadata": {
  "kernelspec": {
   "display_name": "Python 3.10.7 64-bit",
   "language": "python",
   "name": "python3"
  },
  "language_info": {
   "codemirror_mode": {
    "name": "ipython",
    "version": 3
   },
   "file_extension": ".py",
   "mimetype": "text/x-python",
   "name": "python",
   "nbconvert_exporter": "python",
   "pygments_lexer": "ipython3",
   "version": "3.10.7"
  },
  "orig_nbformat": 4,
  "vscode": {
   "interpreter": {
    "hash": "bb63a77499ed5899fffa71b49f0fc3f4df2c625891c3993c985b13a523c87e61"
   }
  }
 },
 "nbformat": 4,
 "nbformat_minor": 2
}
